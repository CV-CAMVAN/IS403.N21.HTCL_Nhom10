{
 "cells": [
  {
   "attachments": {},
   "cell_type": "markdown",
   "metadata": {},
   "source": [
    "### Bước 1: Khai báo thư viện"
   ]
  },
  {
   "cell_type": "code",
   "execution_count": 1,
   "metadata": {},
   "outputs": [],
   "source": [
    "#Khai báo thư viện\n",
    "import pandas as pd # Đọc dữ liệu\n",
    "import numpy as np # Xử lý dữ liệu\n",
    "import matplotlib.pyplot as plt # Vẽ biểu đồ"
   ]
  },
  {
   "attachments": {},
   "cell_type": "markdown",
   "metadata": {},
   "source": [
    "### Bước 2: Đọc dữ liệu"
   ]
  },
  {
   "cell_type": "code",
   "execution_count": 2,
   "metadata": {},
   "outputs": [],
   "source": [
    "# Load dữ liệu\n",
    "df = pd.read_csv(\"/Users/baoan/Desktop/STB-His-torical-Data-19.csv\")"
   ]
  },
  {
   "attachments": {},
   "cell_type": "markdown",
   "metadata": {},
   "source": [
    "### Bước 3: Mô tả dữ liệu"
   ]
  },
  {
   "cell_type": "code",
   "execution_count": 3,
   "metadata": {},
   "outputs": [],
   "source": [
    "#Định dạng lại cột Date từ obj -> datetime\n",
    "df['Date'] = pd.to_datetime(df['Date'])\n",
    "# data.set_index('Date', inplace=True)"
   ]
  },
  {
   "cell_type": "code",
   "execution_count": 4,
   "metadata": {},
   "outputs": [
    {
     "data": {
      "text/plain": [
       "(1500, 7)"
      ]
     },
     "execution_count": 4,
     "metadata": {},
     "output_type": "execute_result"
    }
   ],
   "source": [
    "# Kích thước dữ liệu\n",
    "df.shape"
   ]
  },
  {
   "cell_type": "code",
   "execution_count": 5,
   "metadata": {},
   "outputs": [
    {
     "data": {
      "text/html": [
       "<div>\n",
       "<style scoped>\n",
       "    .dataframe tbody tr th:only-of-type {\n",
       "        vertical-align: middle;\n",
       "    }\n",
       "\n",
       "    .dataframe tbody tr th {\n",
       "        vertical-align: top;\n",
       "    }\n",
       "\n",
       "    .dataframe thead th {\n",
       "        text-align: right;\n",
       "    }\n",
       "</style>\n",
       "<table border=\"1\" class=\"dataframe\">\n",
       "  <thead>\n",
       "    <tr style=\"text-align: right;\">\n",
       "      <th></th>\n",
       "      <th>Date</th>\n",
       "      <th>Price</th>\n",
       "      <th>Open</th>\n",
       "      <th>High</th>\n",
       "      <th>Low</th>\n",
       "      <th>Vol.</th>\n",
       "      <th>Change %</th>\n",
       "    </tr>\n",
       "  </thead>\n",
       "  <tbody>\n",
       "    <tr>\n",
       "      <th>0</th>\n",
       "      <td>2017-05-19</td>\n",
       "      <td>12400.0</td>\n",
       "      <td>12450.0</td>\n",
       "      <td>12550.0</td>\n",
       "      <td>12350.0</td>\n",
       "      <td>2.61M</td>\n",
       "      <td>-0.40%</td>\n",
       "    </tr>\n",
       "    <tr>\n",
       "      <th>1</th>\n",
       "      <td>2017-05-22</td>\n",
       "      <td>12700.0</td>\n",
       "      <td>12400.0</td>\n",
       "      <td>12900.0</td>\n",
       "      <td>12350.0</td>\n",
       "      <td>5.15M</td>\n",
       "      <td>2.42%</td>\n",
       "    </tr>\n",
       "    <tr>\n",
       "      <th>2</th>\n",
       "      <td>2017-05-23</td>\n",
       "      <td>12400.0</td>\n",
       "      <td>12800.0</td>\n",
       "      <td>12900.0</td>\n",
       "      <td>12400.0</td>\n",
       "      <td>3.42M</td>\n",
       "      <td>-2.36%</td>\n",
       "    </tr>\n",
       "    <tr>\n",
       "      <th>3</th>\n",
       "      <td>2017-05-24</td>\n",
       "      <td>12550.0</td>\n",
       "      <td>12500.0</td>\n",
       "      <td>12750.0</td>\n",
       "      <td>12400.0</td>\n",
       "      <td>2.94M</td>\n",
       "      <td>1.21%</td>\n",
       "    </tr>\n",
       "    <tr>\n",
       "      <th>4</th>\n",
       "      <td>2017-05-25</td>\n",
       "      <td>12400.0</td>\n",
       "      <td>12550.0</td>\n",
       "      <td>12750.0</td>\n",
       "      <td>12350.0</td>\n",
       "      <td>4.88M</td>\n",
       "      <td>-1.20%</td>\n",
       "    </tr>\n",
       "    <tr>\n",
       "      <th>...</th>\n",
       "      <td>...</td>\n",
       "      <td>...</td>\n",
       "      <td>...</td>\n",
       "      <td>...</td>\n",
       "      <td>...</td>\n",
       "      <td>...</td>\n",
       "      <td>...</td>\n",
       "    </tr>\n",
       "    <tr>\n",
       "      <th>1495</th>\n",
       "      <td>2023-05-15</td>\n",
       "      <td>27000.0</td>\n",
       "      <td>27000.0</td>\n",
       "      <td>27600.0</td>\n",
       "      <td>26900.0</td>\n",
       "      <td>29.85M</td>\n",
       "      <td>0.75%</td>\n",
       "    </tr>\n",
       "    <tr>\n",
       "      <th>1496</th>\n",
       "      <td>2023-05-16</td>\n",
       "      <td>27400.0</td>\n",
       "      <td>27000.0</td>\n",
       "      <td>27550.0</td>\n",
       "      <td>27000.0</td>\n",
       "      <td>13.15M</td>\n",
       "      <td>1.48%</td>\n",
       "    </tr>\n",
       "    <tr>\n",
       "      <th>1497</th>\n",
       "      <td>2023-05-17</td>\n",
       "      <td>27000.0</td>\n",
       "      <td>27400.0</td>\n",
       "      <td>27500.0</td>\n",
       "      <td>26900.0</td>\n",
       "      <td>17.69M</td>\n",
       "      <td>-1.46%</td>\n",
       "    </tr>\n",
       "    <tr>\n",
       "      <th>1498</th>\n",
       "      <td>2023-05-18</td>\n",
       "      <td>27200.0</td>\n",
       "      <td>27150.0</td>\n",
       "      <td>27500.0</td>\n",
       "      <td>27000.0</td>\n",
       "      <td>15.19M</td>\n",
       "      <td>0.74%</td>\n",
       "    </tr>\n",
       "    <tr>\n",
       "      <th>1499</th>\n",
       "      <td>2023-05-19</td>\n",
       "      <td>27850.0</td>\n",
       "      <td>27350.0</td>\n",
       "      <td>27950.0</td>\n",
       "      <td>27200.0</td>\n",
       "      <td>24.34M</td>\n",
       "      <td>2.39%</td>\n",
       "    </tr>\n",
       "  </tbody>\n",
       "</table>\n",
       "<p>1500 rows × 7 columns</p>\n",
       "</div>"
      ],
      "text/plain": [
       "           Date    Price     Open     High      Low    Vol. Change %\n",
       "0    2017-05-19  12400.0  12450.0  12550.0  12350.0   2.61M   -0.40%\n",
       "1    2017-05-22  12700.0  12400.0  12900.0  12350.0   5.15M    2.42%\n",
       "2    2017-05-23  12400.0  12800.0  12900.0  12400.0   3.42M   -2.36%\n",
       "3    2017-05-24  12550.0  12500.0  12750.0  12400.0   2.94M    1.21%\n",
       "4    2017-05-25  12400.0  12550.0  12750.0  12350.0   4.88M   -1.20%\n",
       "...         ...      ...      ...      ...      ...     ...      ...\n",
       "1495 2023-05-15  27000.0  27000.0  27600.0  26900.0  29.85M    0.75%\n",
       "1496 2023-05-16  27400.0  27000.0  27550.0  27000.0  13.15M    1.48%\n",
       "1497 2023-05-17  27000.0  27400.0  27500.0  26900.0  17.69M   -1.46%\n",
       "1498 2023-05-18  27200.0  27150.0  27500.0  27000.0  15.19M    0.74%\n",
       "1499 2023-05-19  27850.0  27350.0  27950.0  27200.0  24.34M    2.39%\n",
       "\n",
       "[1500 rows x 7 columns]"
      ]
     },
     "execution_count": 5,
     "metadata": {},
     "output_type": "execute_result"
    }
   ],
   "source": [
    "# Xem dữ liệu 10 dòng đầu\n",
    "df"
   ]
  },
  {
   "cell_type": "code",
   "execution_count": 6,
   "metadata": {},
   "outputs": [
    {
     "name": "stdout",
     "output_type": "stream",
     "text": [
      "<class 'pandas.core.frame.DataFrame'>\n",
      "RangeIndex: 1500 entries, 0 to 1499\n",
      "Data columns (total 7 columns):\n",
      " #   Column    Non-Null Count  Dtype         \n",
      "---  ------    --------------  -----         \n",
      " 0   Date      1500 non-null   datetime64[ns]\n",
      " 1   Price     1500 non-null   float64       \n",
      " 2   Open      1500 non-null   float64       \n",
      " 3   High      1500 non-null   float64       \n",
      " 4   Low       1500 non-null   float64       \n",
      " 5   Vol.      1500 non-null   object        \n",
      " 6   Change %  1500 non-null   object        \n",
      "dtypes: datetime64[ns](1), float64(4), object(2)\n",
      "memory usage: 82.2+ KB\n"
     ]
    }
   ],
   "source": [
    "# Xác định kiểu dữ liệu\n",
    "df.info()"
   ]
  },
  {
   "cell_type": "code",
   "execution_count": 7,
   "metadata": {},
   "outputs": [
    {
     "data": {
      "text/html": [
       "<div>\n",
       "<style scoped>\n",
       "    .dataframe tbody tr th:only-of-type {\n",
       "        vertical-align: middle;\n",
       "    }\n",
       "\n",
       "    .dataframe tbody tr th {\n",
       "        vertical-align: top;\n",
       "    }\n",
       "\n",
       "    .dataframe thead th {\n",
       "        text-align: right;\n",
       "    }\n",
       "</style>\n",
       "<table border=\"1\" class=\"dataframe\">\n",
       "  <thead>\n",
       "    <tr style=\"text-align: right;\">\n",
       "      <th></th>\n",
       "      <th>Price</th>\n",
       "      <th>Open</th>\n",
       "      <th>High</th>\n",
       "      <th>Low</th>\n",
       "    </tr>\n",
       "  </thead>\n",
       "  <tbody>\n",
       "    <tr>\n",
       "      <th>count</th>\n",
       "      <td>1500.000000</td>\n",
       "      <td>1500.000000</td>\n",
       "      <td>1500.000000</td>\n",
       "      <td>1500.000000</td>\n",
       "    </tr>\n",
       "    <tr>\n",
       "      <th>mean</th>\n",
       "      <td>17272.966667</td>\n",
       "      <td>17286.780000</td>\n",
       "      <td>17579.273333</td>\n",
       "      <td>17008.240000</td>\n",
       "    </tr>\n",
       "    <tr>\n",
       "      <th>std</th>\n",
       "      <td>7203.159511</td>\n",
       "      <td>7205.018373</td>\n",
       "      <td>7349.881353</td>\n",
       "      <td>7071.101273</td>\n",
       "    </tr>\n",
       "    <tr>\n",
       "      <th>min</th>\n",
       "      <td>7300.000000</td>\n",
       "      <td>7200.000000</td>\n",
       "      <td>7810.000000</td>\n",
       "      <td>7120.000000</td>\n",
       "    </tr>\n",
       "    <tr>\n",
       "      <th>25%</th>\n",
       "      <td>11550.000000</td>\n",
       "      <td>11550.000000</td>\n",
       "      <td>11700.000000</td>\n",
       "      <td>11400.000000</td>\n",
       "    </tr>\n",
       "    <tr>\n",
       "      <th>50%</th>\n",
       "      <td>13550.000000</td>\n",
       "      <td>13600.000000</td>\n",
       "      <td>13800.000000</td>\n",
       "      <td>13350.000000</td>\n",
       "    </tr>\n",
       "    <tr>\n",
       "      <th>75%</th>\n",
       "      <td>23562.500000</td>\n",
       "      <td>23487.500000</td>\n",
       "      <td>24062.500000</td>\n",
       "      <td>23025.000000</td>\n",
       "    </tr>\n",
       "    <tr>\n",
       "      <th>max</th>\n",
       "      <td>35850.000000</td>\n",
       "      <td>36000.000000</td>\n",
       "      <td>36700.000000</td>\n",
       "      <td>35450.000000</td>\n",
       "    </tr>\n",
       "  </tbody>\n",
       "</table>\n",
       "</div>"
      ],
      "text/plain": [
       "              Price          Open          High           Low\n",
       "count   1500.000000   1500.000000   1500.000000   1500.000000\n",
       "mean   17272.966667  17286.780000  17579.273333  17008.240000\n",
       "std     7203.159511   7205.018373   7349.881353   7071.101273\n",
       "min     7300.000000   7200.000000   7810.000000   7120.000000\n",
       "25%    11550.000000  11550.000000  11700.000000  11400.000000\n",
       "50%    13550.000000  13600.000000  13800.000000  13350.000000\n",
       "75%    23562.500000  23487.500000  24062.500000  23025.000000\n",
       "max    35850.000000  36000.000000  36700.000000  35450.000000"
      ]
     },
     "execution_count": 7,
     "metadata": {},
     "output_type": "execute_result"
    }
   ],
   "source": [
    "# Mô tả bộ dữ liệu\n",
    "df.describe()"
   ]
  },
  {
   "cell_type": "code",
   "execution_count": 8,
   "metadata": {},
   "outputs": [
    {
     "data": {
      "text/plain": [
       "count     1500.000000\n",
       "mean     17272.966667\n",
       "std       7203.159511\n",
       "min       7300.000000\n",
       "25%      11550.000000\n",
       "50%      13550.000000\n",
       "75%      23562.500000\n",
       "max      35850.000000\n",
       "Name: Price, dtype: float64"
      ]
     },
     "execution_count": 8,
     "metadata": {},
     "output_type": "execute_result"
    }
   ],
   "source": [
    "# Mô tả thuộc tính train \"Price\"\n",
    "df['Price'].describe()"
   ]
  },
  {
   "cell_type": "code",
   "execution_count": 9,
   "metadata": {},
   "outputs": [
    {
     "name": "stdout",
     "output_type": "stream",
     "text": [
      "Mode:  11300.0\n",
      "Variance:  51885506.936846785\n",
      "Median 13550.0\n",
      "Coefficient of Deviation:  0.4170192445643176\n",
      "Skewness 0.8074525337645864\n",
      "Kurtosis:  -0.7321215324099235\n",
      "Range:  28550.0\n"
     ]
    }
   ],
   "source": [
    "import statistics as st\n",
    "from scipy.stats import skew\n",
    "from scipy.stats import kurtosis\n",
    "\n",
    "#Mode\n",
    "mode = st.mode(df['Price'])\n",
    "print(\"Mode: \", mode)\n",
    "\n",
    "#Variance\n",
    "var = st.variance(df['Price'])\n",
    "print(\"Variance: \", var)\n",
    "\n",
    "#Median (trung vị)\n",
    "median = st.median(df['Price'])\n",
    "print(\"Median\", median)\n",
    "\n",
    "#Coefficient of Deviation\n",
    "cv = st.stdev(df['Price'])/st.mean(df['Price'])\n",
    "print(\"Coefficient of Deviation: \",cv)\n",
    "\n",
    "#Skewness\n",
    "skew = skew(df['Price'])\n",
    "print(\"Skewness\", skew)\n",
    "\n",
    "#Kurtosis\n",
    "kurtosis = kurtosis(df['Price'])\n",
    "print(\"Kurtosis: \", kurtosis)\n",
    "\n",
    "#Range\n",
    "range = max(df['Price']) - min(df['Price'])\n",
    "print(\"Range: \", range)"
   ]
  },
  {
   "attachments": {},
   "cell_type": "markdown",
   "metadata": {},
   "source": [
    "### Bước 4: Lập biểu đồ"
   ]
  },
  {
   "cell_type": "code",
   "execution_count": 10,
   "metadata": {},
   "outputs": [],
   "source": [
    "# Lấy dữ liệu\n",
    "df1 = pd.DataFrame(df, columns=['Date', 'Price'])\n",
    "# Chuyển cột Date làm index để lập biểu đồ so sánh về sau\n",
    "df1.index = df1.Date\n",
    "df1.drop('Date', axis=1, inplace=True)"
   ]
  },
  {
   "cell_type": "code",
   "execution_count": 11,
   "metadata": {},
   "outputs": [
    {
     "data": {
      "image/png": "[encoded data removed]",
      "text/plain": [
       "<Figure size 1000x500 with 1 Axes>"
      ]
     },
     "metadata": {},
     "output_type": "display_data"
    }
   ],
   "source": [
    "#Lập biểu đồ giá đóng\n",
    "plt.figure(figsize=(10,5))\n",
    "plt.plot(df1['Price'], label='Actual price', color='blue')\n",
    "# plt.title('BID stock market')\n",
    "plt.xlabel('Year')\n",
    "plt.ylabel('Price')\n",
    "plt.legend()\n",
    "plt.show()"
   ]
  },
  {
   "cell_type": "code",
   "execution_count": 12,
   "metadata": {},
   "outputs": [
    {
     "data": {
      "text/html": [
       "<div>\n",
       "<style scoped>\n",
       "    .dataframe tbody tr th:only-of-type {\n",
       "        vertical-align: middle;\n",
       "    }\n",
       "\n",
       "    .dataframe tbody tr th {\n",
       "        vertical-align: top;\n",
       "    }\n",
       "\n",
       "    .dataframe thead th {\n",
       "        text-align: right;\n",
       "    }\n",
       "</style>\n",
       "<table border=\"1\" class=\"dataframe\">\n",
       "  <thead>\n",
       "    <tr style=\"text-align: right;\">\n",
       "      <th></th>\n",
       "      <th>Price</th>\n",
       "    </tr>\n",
       "    <tr>\n",
       "      <th>Date</th>\n",
       "      <th></th>\n",
       "    </tr>\n",
       "  </thead>\n",
       "  <tbody>\n",
       "    <tr>\n",
       "      <th>2017-05-19</th>\n",
       "      <td>12400.0</td>\n",
       "    </tr>\n",
       "    <tr>\n",
       "      <th>2017-05-22</th>\n",
       "      <td>12700.0</td>\n",
       "    </tr>\n",
       "    <tr>\n",
       "      <th>2017-05-23</th>\n",
       "      <td>12400.0</td>\n",
       "    </tr>\n",
       "    <tr>\n",
       "      <th>2017-05-24</th>\n",
       "      <td>12550.0</td>\n",
       "    </tr>\n",
       "    <tr>\n",
       "      <th>2017-05-25</th>\n",
       "      <td>12400.0</td>\n",
       "    </tr>\n",
       "    <tr>\n",
       "      <th>...</th>\n",
       "      <td>...</td>\n",
       "    </tr>\n",
       "    <tr>\n",
       "      <th>2023-05-15</th>\n",
       "      <td>27000.0</td>\n",
       "    </tr>\n",
       "    <tr>\n",
       "      <th>2023-05-16</th>\n",
       "      <td>27400.0</td>\n",
       "    </tr>\n",
       "    <tr>\n",
       "      <th>2023-05-17</th>\n",
       "      <td>27000.0</td>\n",
       "    </tr>\n",
       "    <tr>\n",
       "      <th>2023-05-18</th>\n",
       "      <td>27200.0</td>\n",
       "    </tr>\n",
       "    <tr>\n",
       "      <th>2023-05-19</th>\n",
       "      <td>27850.0</td>\n",
       "    </tr>\n",
       "  </tbody>\n",
       "</table>\n",
       "<p>1500 rows × 1 columns</p>\n",
       "</div>"
      ],
      "text/plain": [
       "              Price\n",
       "Date               \n",
       "2017-05-19  12400.0\n",
       "2017-05-22  12700.0\n",
       "2017-05-23  12400.0\n",
       "2017-05-24  12550.0\n",
       "2017-05-25  12400.0\n",
       "...             ...\n",
       "2023-05-15  27000.0\n",
       "2023-05-16  27400.0\n",
       "2023-05-17  27000.0\n",
       "2023-05-18  27200.0\n",
       "2023-05-19  27850.0\n",
       "\n",
       "[1500 rows x 1 columns]"
      ]
     },
     "execution_count": 12,
     "metadata": {},
     "output_type": "execute_result"
    }
   ],
   "source": [
    "df1"
   ]
  }
 ],
 "metadata": {
  "kernelspec": {
   "display_name": "Python 3.11.0 64-bit",
   "language": "python",
   "name": "python3"
  },
  "language_info": {
   "codemirror_mode": {
    "name": "ipython",
    "version": 3
   },
   "file_extension": ".py",
   "mimetype": "text/x-python",
   "name": "python",
   "nbconvert_exporter": "python",
   "pygments_lexer": "ipython3",
   "version": "3.11.2"
  },
  "orig_nbformat": 4,
  "vscode": {
   "interpreter": {
    "hash": "228ec1c77332413f421e77c28617d1df6074d6a46921cdaeb15ed9feeb460bfe"
   }
  }
 },
 "nbformat": 4,
 "nbformat_minor": 2
}
